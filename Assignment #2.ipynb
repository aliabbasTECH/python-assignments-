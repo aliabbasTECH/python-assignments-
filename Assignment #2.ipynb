{
 "cells": [
  {
   "cell_type": "code",
   "execution_count": 1,
   "metadata": {},
   "outputs": [
    {
     "name": "stdout",
     "output_type": "stream",
     "text": [
      "enter marks of the first subject: 90\n",
      "enter marks of the second subject: 90\n",
      "enter marks of the third subject: 85\n",
      "enter marks of the fourth subject: 65\n",
      "enter marks of the fifth subject: 60\n",
      "Grade: B\n"
     ]
    }
   ],
   "source": [
    "#Ans 01\n",
    "\n",
    "subject_1=int(input(\"enter marks of the first subject: \"))\n",
    "subject_2=int(input(\"enter marks of the second subject: \"))\n",
    "subject_3=int(input(\"enter marks of the third subject: \"))\n",
    "subject_4=int(input(\"enter marks of the fourth subject: \"))\n",
    "subject_5=int(input(\"enter marks of the fifth subject: \"))\n",
    "avg=(subject_1+subject_2+subject_3+subject_4+subject_5)/5\n",
    "if(avg>=90):\n",
    "    print(\"Grade: A+\")\n",
    "elif(avg>=85):\n",
    "    print(\"Grade: A\")\n",
    "elif(avg>=80):\n",
    "    print(\"Grade: B+\")\n",
    "elif(avg>=75):\n",
    "    print(\"Grade: B\")\n",
    "elif(avg>=70):\n",
    "    print(\"Grade: C+\")\n",
    "elif(avg>=65):\n",
    "    print(\"Grade: c\")\n",
    "elif(avg>=60):\n",
    "    print(\"Grade: D\")\n",
    "else:\n",
    "    print(\"Grade: F\")\n",
    "    "
   ]
  },
  {
   "cell_type": "code",
   "execution_count": 2,
   "metadata": {},
   "outputs": [
    {
     "name": "stdout",
     "output_type": "stream",
     "text": [
      "enter number9\n",
      "this is odd number\n"
     ]
    }
   ],
   "source": [
    "#ANS 02\n",
    "\n",
    "num=int(input(\"enter number\"))\n",
    "if num%2==0:\n",
    "    print(\" this is even number\")\n",
    "else:\n",
    "    print(\"this is odd number\")"
   ]
  },
  {
   "cell_type": "code",
   "execution_count": 3,
   "metadata": {},
   "outputs": [
    {
     "name": "stdout",
     "output_type": "stream",
     "text": [
      "The length of list is:  5\n"
     ]
    }
   ],
   "source": [
    "#ANS 03\n",
    "    \n",
    "n = len([10, 20, 30, 40, 50]) \n",
    "print(\"The length of list is: \", n)"
   ]
  },
  {
   "cell_type": "code",
   "execution_count": 4,
   "metadata": {},
   "outputs": [
    {
     "name": "stdout",
     "output_type": "stream",
     "text": [
      "Sum of all elements in given list:  80\n"
     ]
    }
   ],
   "source": [
    "#ANS 04\n",
    "\n",
    "list1 = [50, 10, 2, 8, 10] \n",
    "total = sum(list1) \n",
    "print(\"Sum of all elements in given list: \", total) "
   ]
  },
  {
   "cell_type": "code",
   "execution_count": 5,
   "metadata": {},
   "outputs": [
    {
     "name": "stdout",
     "output_type": "stream",
     "text": [
      "Largest element is: 99\n"
     ]
    }
   ],
   "source": [
    "#ANS 05\n",
    "\n",
    "list1 = [10, 20, 4, 45, 99] \n",
    "print(\"Largest element is:\", max(list1))"
   ]
  },
  {
   "cell_type": "code",
   "execution_count": 6,
   "metadata": {},
   "outputs": [
    {
     "name": "stdout",
     "output_type": "stream",
     "text": [
      "[1, 1, 2, 3, 4]\n"
     ]
    }
   ],
   "source": [
    "#ANS 06\n",
    "a = [1,1,2,3,4,5,8,13,21,34,55,89]\n",
    "new_lst = []\n",
    "for item in a:\n",
    "    if item < 5:\n",
    "        new_lst.append(item)\n",
    "print(new_lst)"
   ]
  },
  {
   "cell_type": "code",
   "execution_count": null,
   "metadata": {},
   "outputs": [],
   "source": []
  }
 ],
 "metadata": {
  "kernelspec": {
   "display_name": "Python 3",
   "language": "python",
   "name": "python3"
  },
  "language_info": {
   "codemirror_mode": {
    "name": "ipython",
    "version": 3
   },
   "file_extension": ".py",
   "mimetype": "text/x-python",
   "name": "python",
   "nbconvert_exporter": "python",
   "pygments_lexer": "ipython3",
   "version": "3.7.4"
  }
 },
 "nbformat": 4,
 "nbformat_minor": 2
}
