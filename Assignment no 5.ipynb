{
 "cells": [
  {
   "cell_type": "markdown",
   "metadata": {},
   "source": [
    "Q1, Write a Python function to calculate the factorial of a number (a non-negative integer). \n",
    "    The function accepts the number as an argument."
   ]
  },
  {
   "cell_type": "code",
   "execution_count": 5,
   "metadata": {},
   "outputs": [
    {
     "name": "stdout",
     "output_type": "stream",
     "text": [
      "Input a number to compute the factiorial : 5\n",
      "20\n"
     ]
    }
   ],
   "source": [
    "#Ans No1\n",
    "\n",
    "\n",
    "def factorial(n):\n",
    "    if n == 0:\n",
    "        return 1\n",
    "    else:\n",
    "        return n * (n-1)                      \n",
    "    \n",
    "n=int(input(\"Input a number to compute the factiorial : \"))\n",
    "print(factorial(n))"
   ]
  },
  {
   "cell_type": "markdown",
   "metadata": {},
   "source": [
    "Q2, Write a Python function that accepts a string and calculate the number of uppercase letters and lower case letters."
   ]
  },
  {
   "cell_type": "code",
   "execution_count": 8,
   "metadata": {},
   "outputs": [
    {
     "name": "stdout",
     "output_type": "stream",
     "text": [
      "Python IS my Favorit\n",
      "No. of Upper case characters :  4\n",
      "No. of Lower case Characters :  13\n"
     ]
    }
   ],
   "source": [
    "#ANS N02\n",
    "\n",
    "string_test(input())\n",
    "\n",
    "def string_test(s):\n",
    "    d={\"UPPER_CASE\":0, \"LOWER_CASE\":0}\n",
    "    for c in s:\n",
    "        if c.isupper():\n",
    "           d[\"UPPER_CASE\"]+=1\n",
    "        elif c.islower():\n",
    "           d[\"LOWER_CASE\"]+=1\n",
    "        else:\n",
    "           pass\n",
    "    print (\"No. of Upper case characters : \", d[\"UPPER_CASE\"])\n",
    "    print (\"No. of Lower case Characters : \", d[\"LOWER_CASE\"])\n"
   ]
  },
  {
   "cell_type": "markdown",
   "metadata": {},
   "source": [
    "Q3,  Write a Python function to print the even numbers from a given list."
   ]
  },
  {
   "cell_type": "code",
   "execution_count": 9,
   "metadata": {},
   "outputs": [
    {
     "name": "stdout",
     "output_type": "stream",
     "text": [
      "[2, 4, 6, 8, 10]\n"
     ]
    }
   ],
   "source": [
    "#ANS no3\n",
    "\n",
    "def is_even_num(l):\n",
    "    evennum = []\n",
    "    for n in l:\n",
    "        if n % 2 == 0:\n",
    "            evennum.append(n)\n",
    "    return evennum\n",
    "print(is_even_num([1, 2, 3, 4, 5, 6, 7, 8, 9,10]))"
   ]
  },
  {
   "cell_type": "markdown",
   "metadata": {},
   "source": [
    "Q4, Write a Python function that checks whether a passed string is palindrome or not. \n",
    "    Note: A palindrome is a word, phrase, or sequence that reads the same backward as forward, e.g., madam"
   ]
  },
  {
   "cell_type": "code",
   "execution_count": 10,
   "metadata": {},
   "outputs": [
    {
     "name": "stdout",
     "output_type": "stream",
     "text": [
      "write palindrome:madam\n",
      "madam is palindrome\n"
     ]
    }
   ],
   "source": [
    "#ANS\n",
    "\n",
    "def isPalindrome(s): \n",
    "      \n",
    "    rev = ''.join(reversed(s)) \n",
    "  \n",
    "    if (s == rev): \n",
    "        return True\n",
    "    return False\n",
    "\n",
    "s = input(\"write palindrome:\")\n",
    "ans = isPalindrome(s) \n",
    "  \n",
    "if (ans): \n",
    "    print(s,\"is palindrome\") \n",
    "else: \n",
    "    print(\"No\")"
   ]
  },
  {
   "cell_type": "markdown",
   "metadata": {},
   "source": [
    "Q5, Write a Python function that takes a number as a parameter and check the number is prime or not."
   ]
  },
  {
   "cell_type": "code",
   "execution_count": 11,
   "metadata": {},
   "outputs": [
    {
     "name": "stdout",
     "output_type": "stream",
     "text": [
      "False\n"
     ]
    }
   ],
   "source": [
    "#ANS no5\n",
    "\n",
    "def test_prime(n):\n",
    "    if (n==1):\n",
    "        return False\n",
    "    elif (n==2):\n",
    "        return True;\n",
    "    else:\n",
    "        for x in range(2,n):\n",
    "            if(n % x==0):\n",
    "                return False\n",
    "        return True             \n",
    "print(test_prime(9))"
   ]
  },
  {
   "cell_type": "markdown",
   "metadata": {},
   "source": [
    "Q6, Suppose a customer is shopping in a market and you need to print all the items which user bought from market.\n",
    "    Write a function which accepts the multiple arguments of user shopping list andprint all the items \n",
    "    which user bought from market."
   ]
  },
  {
   "cell_type": "code",
   "execution_count": 12,
   "metadata": {},
   "outputs": [
    {
     "name": "stdout",
     "output_type": "stream",
     "text": [
      "_______________________________________shoping list___________________________________________\n",
      "name:aliabbas\n",
      "whant to add in shopping list? Y or Ny\n",
      "Enter ypur items in list:apple\n",
      "want to add to your shopping list? Y or N? y\n",
      "Enter ypur items in list:banana\n",
      "want to add to your shopping list? Y or N? y\n",
      "Enter ypur items in list:cups\n",
      "want to add to your shopping list? Y or N? y\n",
      "Enter ypur items in list:cloths\n",
      "want to add to your shopping list? Y or N? n\n",
      "\n",
      "__________________________________hear is your shoping list____________________________________\n",
      "name: aliabbas\n",
      "apple\n",
      "banana\n",
      "cloths\n",
      "cups\n"
     ]
    }
   ],
   "source": [
    "#ANS \n",
    "\n",
    "print (\"_______________________________________shoping list___________________________________________\")\n",
    "\n",
    "username=input(\"name:\")\n",
    "\n",
    "shoplist = []\n",
    "\n",
    "add=input(\"whant to add in shopping list? Y or N\")\n",
    "\n",
    "while add.lower()== \"y\":\n",
    "      item = input(\"Enter ypur items in list:\")\n",
    "      shoplist.append(item)\n",
    "      add = input (\"want to add to your shopping list? Y or N? \")\n",
    "       \n",
    "print ()\n",
    "print(\"__________________________________hear is your shoping list____________________________________\")\n",
    "print(\"name:\",username) \n",
    "shoplist.sort()\n",
    "for listitem in shoplist:\n",
    "    \n",
    "    print(listitem)"
   ]
  },
  {
   "cell_type": "code",
   "execution_count": null,
   "metadata": {},
   "outputs": [],
   "source": []
  }
 ],
 "metadata": {
  "kernelspec": {
   "display_name": "Python 3",
   "language": "python",
   "name": "python3"
  },
  "language_info": {
   "codemirror_mode": {
    "name": "ipython",
    "version": 3
   },
   "file_extension": ".py",
   "mimetype": "text/x-python",
   "name": "python",
   "nbconvert_exporter": "python",
   "pygments_lexer": "ipython3",
   "version": "3.7.4"
  }
 },
 "nbformat": 4,
 "nbformat_minor": 2
}
