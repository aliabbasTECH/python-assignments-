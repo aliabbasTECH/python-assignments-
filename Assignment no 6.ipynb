{
 "cells": [
  {
   "cell_type": "markdown",
   "metadata": {},
   "source": [
    "Q1: Define Object Oriented Programming Language? "
   ]
  },
  {
   "cell_type": "markdown",
   "metadata": {},
   "source": [
    "# OBJECT ORIENTED PROGRAMMING:- \n",
    "In object-oriented programming we combine the group of related variables and functions into a unit we call that unit an        object we refer to this variable as properties and the functions as methods e.g: let’s assume that  “ bike” is an object        with properties such as colour , make  and model functions like start, stop and  move . so it is not new language or            anything different from code  it just smarter way to write a program. "
   ]
  },
  {
   "cell_type": "markdown",
   "metadata": {},
   "source": [
    "Q2: List down the Benefits of OOP?"
   ]
  },
  {
   "cell_type": "raw",
   "metadata": {},
   "source": [
    "ANS: thear  are the benefit of Object oriented programming:"
   ]
  },
  {
   "cell_type": "markdown",
   "metadata": {},
   "source": [
    "# 1:Encapsulation: \n",
    "        the fewer the number of parameters the easier it is to use and maintain that function"
   ]
  },
  {
   "cell_type": "markdown",
   "metadata": {},
   "source": [
    "# 2:Abstraction: \n",
    "        it hides the complexity of code means hide some of properties and method ,or from the outside it look simpler\n",
    "        and the second thing is reduce the impact of  Change"
   ]
  },
  {
   "cell_type": "markdown",
   "metadata": {},
   "source": [
    "# 3:Inheritance: \n",
    "        is a mechanism that allows you to eliminate inessential code. It refers to defining a new class with little or no \n",
    "        modification to an existing class. The new class is called derived (or child) class and the one \n",
    "        from which it inherits is called the base (or parent) class."
   ]
  },
  {
   "cell_type": "markdown",
   "metadata": {},
   "source": [
    "#  4:Polymorphism: \n",
    "        the polymorphisum means (many forms)this technique that allow you to get rid of long switch and case statements"
   ]
  },
  {
   "cell_type": "markdown",
   "metadata": {},
   "source": [
    "Q3: Differentiate between function and method?"
   ]
  },
  {
   "cell_type": "markdown",
   "metadata": {},
   "source": [
    "# METHOD:\n",
    "> Method is called by its name, but it is associated to an object (dependent).\n",
    "> A method is implicitly passed the object on which it is invoked.\n",
    "> It may or may not return any data.\n",
    "> A method can operate on the data (instance variables) that is contained by the corresponding class\n",
    "                                       "
   ]
  },
  {
   "cell_type": "markdown",
   "metadata": {},
   "source": [
    "# FUNCTION:\n",
    "> Function is block of code that is also called by its name. (independent)\n",
    "> The function can have different parameters or may not have any at all. If any data (parameters) are passed, they are passed     explicitly.\n",
    "> It may or may not return any data.\n",
    "> Function does not deal with Class and its instance concept."
   ]
  },
  {
   "cell_type": "markdown",
   "metadata": {},
   "source": [
    "Q4 : Define the following terms: Class, Object , Attribute , Behavior ?"
   ]
  },
  {
   "cell_type": "markdown",
   "metadata": {},
   "source": [
    "# CLASS:-\n",
    "A class are a code pattern for creating objects. Objects have member variables and have  behaviour connected with               them. In python a class is created by the keyword class. \n",
    "An object is created using the constructor of the class."
   ]
  },
  {
   "cell_type": "markdown",
   "metadata": {},
   "source": [
    "# OBJECT:-\n",
    "Object is simply a collection of data (variables) and methods (functions) that work on those data.We can think of  \n",
    "class as a sketch (prototype) of a Airplane. It contains all the details about the wings, turbines, wheels etc. Based          on these descriptions we build the  Airplane. Airplane is the object."
   ]
  },
  {
   "cell_type": "markdown",
   "metadata": {},
   "source": [
    "# ATTRIBUTE:-\n",
    "Attributes are the characteristics of Classes.Attributes may be data or method.\n",
    "Method of an object are gives us the docstring of  that class."
   ]
  },
  {
   "cell_type": "markdown",
   "metadata": {},
   "source": [
    "# BEHAVIOR:-\n",
    "The behavior of an object is defined by its methods, which are the functions and subroutines defined within the object class."
   ]
  },
  {
   "cell_type": "markdown",
   "metadata": {},
   "source": [
    "Q5: Write a code in python in which create a class named it Car whichhave 5 attributes such like (model, color and name etc.)       and 3 methods. And create 5 object instance from that class."
   ]
  },
  {
   "cell_type": "code",
   "execution_count": 1,
   "metadata": {},
   "outputs": [
    {
     "name": "stdout",
     "output_type": "stream",
     "text": [
      "product_no: <__main__.Vahical object at 0x0000010FAC8DF688>\n",
      "name: toyota\n",
      "color: black\n",
      "model: 2019\n",
      "engine 2200cc\n",
      "made: japana\n",
      "\n",
      "product_no: <__main__.Vahical object at 0x0000010FAC8DFA48>\n",
      "name: suzuki\n",
      "color: blue\n",
      "model: 2018\n",
      "engine: 1500cc\n",
      "made: pakistan\n",
      "\n",
      "product_no: <__main__.Vahical object at 0x0000010FAC8DF948>\n",
      "name: lexus\n",
      "color: white\n",
      "model: 2020\n",
      "engine: 4000cc\n",
      "made: pakistan\n"
     ]
    }
   ],
   "source": [
    "class Vahical():\n",
    "    def __init__(car,name,color,model,engine,made):\n",
    "        \n",
    "        car.name = name \n",
    "        car.color = color\n",
    "        car.model = model\n",
    "        car.engine =engine\n",
    "        car.made  = made\n",
    "\n",
    "        \n",
    "car1 = Vahical('toyota','black', '2019','2200cc','japana',)\n",
    "print(\"product_no:\",car1)\n",
    "print(\"name:\",car1.name)  \n",
    "print(\"color:\",car1.color) \n",
    "print(\"model:\",car1.model)\n",
    "print(\"engine\",car1.engine)\n",
    "print(\"made:\",car1.made)\n",
    "print(\"\")\n",
    "car2 = Vahical('suzuki','blue', '2018','1500cc','pakistan',)\n",
    "print(\"product_no:\",car2)\n",
    "print(\"name:\",car2.name)  \n",
    "print(\"color:\",car2.color) \n",
    "print(\"model:\",car2.model)\n",
    "print(\"engine:\",car2.engine)\n",
    "print(\"made:\",car2.made)\n",
    "print(\"\")\n",
    "car3 = Vahical('lexus','white', '2020','4000cc','pakistan',)\n",
    "print(\"product_no:\",car3)\n",
    "print(\"name:\",car3.name)  \n",
    "print(\"color:\",car3.color) \n",
    "print(\"model:\",car3.model)\n",
    "print(\"engine:\",car3.engine)\n",
    "print(\"made:\",car3.made)\n",
    "\n"
   ]
  },
  {
   "cell_type": "markdown",
   "metadata": {},
   "source": []
  }
 ],
 "metadata": {
  "kernelspec": {
   "display_name": "Python 3",
   "language": "python",
   "name": "python3"
  },
  "language_info": {
   "codemirror_mode": {
    "name": "ipython",
    "version": 3
   },
   "file_extension": ".py",
   "mimetype": "text/x-python",
   "name": "python",
   "nbconvert_exporter": "python",
   "pygments_lexer": "ipython3",
   "version": "3.7.4"
  }
 },
 "nbformat": 4,
 "nbformat_minor": 2
}
