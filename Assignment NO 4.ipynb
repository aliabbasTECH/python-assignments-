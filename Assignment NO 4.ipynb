{
 "cells": [
  {
   "cell_type": "code",
   "execution_count": 13,
   "metadata": {},
   "outputs": [
    {
     "name": "stdout",
     "output_type": "stream",
     "text": [
      "Original Dictionary:\n",
      "{'first_name': 'Ali', 'last_name': 'abbas', 'Age': '24', 'CITY': 'Karachi'}\n",
      "\n",
      "Updated:dictionary\n",
      "{'first_name': 'Ali', 'last_name': 'abbas', 'Age': '24', 'CITY': 'Karachi', 'Qualification': 'BSCS'}\n",
      "\n",
      "delete Qualification\n",
      "{'first_name': 'Ali', 'last_name': 'abbas', 'Age': '24', 'CITY': 'Karachi'}\n"
     ]
    }
   ],
   "source": [
    "# ANS01\n",
    "\n",
    "\n",
    "Dictionary = { 'first_name': 'Ali', 'last_name': 'abbas','Age' : '24',\n",
    "         'CITY': 'Karachi'} \n",
    "  \n",
    "print(\"Original Dictionary:\")\n",
    "print(Dictionary) \n",
    "  \n",
    "Dictionary.update (Qualification = 'BSCS')\n",
    "print( )\n",
    "print(\"Updated:dictionary\") \n",
    "print(Dictionary)\n",
    "\n",
    "\n",
    "\n",
    "delete = [] \n",
    "for key, val in Dictionary .items(): \n",
    "    if val == 'BSCS': \n",
    "        delete.append(key) \n",
    "          \n",
    "for i in delete: \n",
    "    del Dictionary[i]\n",
    "    \n",
    "print( )\n",
    "print(\"delete Qualification\")\n",
    "print(Dictionary) "
   ]
  },
  {
   "cell_type": "code",
   "execution_count": 15,
   "metadata": {},
   "outputs": [
    {
     "name": "stdout",
     "output_type": "stream",
     "text": [
      "{'country': 'saudia Arab', 'city': 'medina', 'Fact': ' Madinah is also known as Madinah An-Nabi (The City of the Prophet) or Madinah Al-Munawwarah The Enlightened City or Medina.In ancient times, the city was known as Yathrib.'}\n",
      "\n",
      "{'country': 'pakistan', 'city': 'islamabad', 'Fact': 'Islamabad is the capital of the top adventurous place Pakistan. This city is famous due to the many parks, forests, greenery, breathtaking sites, safety, high living standard, world fourth largest mosque and the Margalla Hills National park'}\n",
      "\n",
      "{'country': 'pakistan', 'city': 'karachi', 'Fact': 'It is vital to Pakistan’s economy and contributes almost 42% to GDP and 70% of income tax revenue and 62% of sales tax revenue. '}\n"
     ]
    }
   ],
   "source": [
    "#ANS02\n",
    "\n",
    "cities ={\n",
    "   0:{ \n",
    "     \"country\": \"saudia Arab\",\n",
    "     \"city\": \"medina\",\n",
    "     \"Fact\": \" Madinah is also known as Madinah An-Nabi (The City of the Prophet) or Madinah Al-Munawwarah The Enlightened City or Medina.In ancient times, the city was known as Yathrib.\"\n",
    "     },\n",
    "    \n",
    "   1:{\n",
    "     \"country\": \"pakistan\",\n",
    "     \"city\": \"islamabad\",\n",
    "     \"Fact\":\"Islamabad is the capital of the top adventurous place Pakistan. This city is famous due to the many parks, forests, greenery, breathtaking sites, safety, high living standard, world fourth largest mosque and the Margalla Hills National park\"\n",
    "    },\n",
    "    \n",
    "   2:{\n",
    "     \n",
    "     \"country\": \"pakistan\",\n",
    "     \"city\": \"karachi\",\n",
    "     \"Fact\":\"It is vital to Pakistan’s economy and contributes almost 42% to GDP and 70% of income tax revenue and 62% of sales tax revenue. \"\n",
    "    }\n",
    "}\n",
    "\n",
    "print(cities[0])\n",
    "print()\n",
    "print(cities[1])\n",
    "print()\n",
    "print(cities[2])"
   ]
  },
  {
   "cell_type": "code",
   "execution_count": 2,
   "metadata": {},
   "outputs": [
    {
     "name": "stdout",
     "output_type": "stream",
     "text": [
      "\n",
      "How old are you? (Q to quit)4\n",
      "Your ticket is $10\n",
      "\n",
      "How old are you? (Q to quit)3\n",
      "Your ticket is free.\n",
      "\n",
      "How old are you? (Q to quit)15\n",
      "Your ticket is $15\n",
      "\n",
      "How old are you? (Q to quit)q\n",
      "\n",
      "Goodbye\n"
     ]
    }
   ],
   "source": [
    "#ANS03\n",
    "\n",
    "while True:\n",
    "    age = input(\"\\nHow old are you? (Q to quit)\")\n",
    "    if age.lower() == \"q\":\n",
    "        break\n",
    "    try:\n",
    "        age = int(age)\n",
    "        if age <= 3:\n",
    "             print(\"Your ticket is free.\")\n",
    "        elif age > 3 and age <= 12:\n",
    "             print(\"Your ticket is $10\")\n",
    "        elif age > 12:\n",
    "             print(\"Your ticket is $15\")\n",
    "    except:\n",
    "        print(\"Invalid entry\")\n",
    "print(\"\\nGoodbye\")"
   ]
  },
  {
   "cell_type": "code",
   "execution_count": 2,
   "metadata": {},
   "outputs": [
    {
     "name": "stdout",
     "output_type": "stream",
     "text": [
      "One of my favorite books is Alice in Wonderland.\n"
     ]
    }
   ],
   "source": [
    "#ANS04\n",
    "\n",
    "\n",
    "def favorite_book(title):\n",
    "    print(\"One of my favorite books is \" + title + \".\")\n",
    "    \n",
    "\n",
    "favorite_book('Alice in Wonderland')"
   ]
  },
  {
   "cell_type": "code",
   "execution_count": 1,
   "metadata": {},
   "outputs": [
    {
     "name": "stdout",
     "output_type": "stream",
     "text": [
      " hello what is your name?hassan\n",
      " Hi hassan, I am thinking of a number between 1 and 30\n",
      " Enter a guess:2\n",
      "That was too low.\n",
      " Enter a guess:30\n",
      " that was too high!\n",
      " Enter a guess:25\n",
      " that was too high!\n",
      " Enter a guess:23\n",
      "That was too low.\n",
      " Enter a guess:24\n",
      "winnerhassan you guess correct\n"
     ]
    }
   ],
   "source": [
    "#ANS05\n",
    "\n",
    "\n",
    "import random\n",
    "name = input (\" hello what is your name?\")\n",
    "number = random.randint(1,30)\n",
    "print(\" Hi \" + name + \", I am thinking of a number between 1 and 30\")\n",
    "guessestaken = 0\n",
    "\n",
    "while guessestaken < 5:\n",
    "    guess = input (\" Enter a guess:\")\n",
    "    guess = int (guess)\n",
    "    guessestaken = guessestaken + 1\n",
    "    if guess < number:\n",
    "            print(\"That was too low.\")\n",
    "    elif guess > number :\n",
    "            print (\" that was too high!\")\n",
    "    else: \n",
    "            break\n",
    "if guess == number:\n",
    "    print(\"winner\" + name + \" you guess correct\")\n",
    "else:\n",
    "    print (\"you lose,better luck next time.\",number)"
   ]
  },
  {
   "cell_type": "code",
   "execution_count": null,
   "metadata": {},
   "outputs": [],
   "source": []
  }
 ],
 "metadata": {
  "kernelspec": {
   "display_name": "Python 3",
   "language": "python",
   "name": "python3"
  },
  "language_info": {
   "codemirror_mode": {
    "name": "ipython",
    "version": 3
   },
   "file_extension": ".py",
   "mimetype": "text/x-python",
   "name": "python",
   "nbconvert_exporter": "python",
   "pygments_lexer": "ipython3",
   "version": "3.7.4"
  }
 },
 "nbformat": 4,
 "nbformat_minor": 2
}
