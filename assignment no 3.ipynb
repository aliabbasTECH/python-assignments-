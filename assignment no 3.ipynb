{
 "cells": [
  {
   "cell_type": "code",
   "execution_count": 1,
   "metadata": {},
   "outputs": [
    {
     "name": "stdout",
     "output_type": "stream",
     "text": [
      "enter first value2\n",
      "enter second value 2\n",
      "enter operator+\n",
      "4 answer\n"
     ]
    }
   ],
   "source": [
    "#ans01\n",
    "\n",
    "val1 = int(input('enter first value')) \n",
    "val2 = int(input('enter second value '))\n",
    "operator= (input('enter operator'))\n",
    "\n",
    "if operator == '+':\n",
    "    val = val1 + val2\n",
    "    print(val,'answer')\n",
    "elif operator == '-' :\n",
    "    val = val1 - val2\n",
    "    print(val,'answer')\n",
    "elif operator == '*' :\n",
    "    val = val1 * val2\n",
    "    print(val,'answer')\n",
    "elif operator == '/' :\n",
    "    val = val1 / val2\n",
    "    print(val,'answer')\n",
    "elif operator == '**' :\n",
    "    val = val1 ** val2\n",
    "    print(val,'answer')\n",
    "else:\n",
    "    print('enter correct operator')"
   ]
  },
  {
   "cell_type": "code",
   "execution_count": 3,
   "metadata": {},
   "outputs": [
    {
     "name": "stdout",
     "output_type": "stream",
     "text": [
      "numaric value:'4'\n"
     ]
    }
   ],
   "source": [
    "#ANS 02\n",
    "test_list = [ \"a\",\"b\",\"c\", \"d\", \"e\", \"4\" ]\n",
    "\n",
    "for i in test_list: \n",
    "    if(i == \"4\") : \n",
    "        print (\"numaric value:'4'\")"
   ]
  },
  {
   "cell_type": "code",
   "execution_count": 2,
   "metadata": {},
   "outputs": [
    {
     "name": "stdout",
     "output_type": "stream",
     "text": [
      "{'bookname': 'The Life of a Poet ', 'type': 'BIOGRAPHY', 'writer': 'Zafar Anjum', 'code': '000567'}\n"
     ]
    }
   ],
   "source": [
    "#ANS 03\n",
    "book_000567 = {\n",
    "    \"bookname\": \"The Life of a Poet \",\n",
    "    \"type\": \"BIOGRAPHY\",\n",
    "    \"writer\": \"Zafar Anjum\",\n",
    "    \"code\": \"000567\"\n",
    "}\n",
    "print(book_000567)"
   ]
  },
  {
   "cell_type": "code",
   "execution_count": 6,
   "metadata": {},
   "outputs": [
    {
     "name": "stdout",
     "output_type": "stream",
     "text": [
      "Sum : 200\n"
     ]
    }
   ],
   "source": [
    "#ANS04\n",
    "def returnSum(number): \n",
    "      \n",
    "     sum = 0\n",
    "     for i in number.values(): \n",
    "           sum = sum + i \n",
    "       \n",
    "     return sum\n",
    "    \n",
    "number = {'a': 10, 'b':40, 'c':50 ,'d':100 } \n",
    "print(\"Sum :\", returnSum(number))"
   ]
  },
  {
   "cell_type": "code",
   "execution_count": 7,
   "metadata": {},
   "outputs": [
    {
     "name": "stdout",
     "output_type": "stream",
     "text": [
      "list {'a': 1, 'b': 2, 'c': 3, 'd': 4, 'e': 5, 'f': 6, 'g': 2, 'h': 7}\n",
      "identified [2]\n"
     ]
    }
   ],
   "source": [
    "#ANS05\n",
    "\n",
    "ini_list = {'a':1, 'b':2, 'c':3, 'd':4, 'e':5, 'f':6, 'g':2, 'h':7} \n",
    "print(\"list\", str(ini_list))\n",
    "\n",
    "rev_list = {}\n",
    "\n",
    "for key, value in ini_list.items():\n",
    "    rev_list.setdefault(value, set()).add(key)\n",
    "   \n",
    "    result = [key for key, values in rev_list.items() \n",
    "                              if len(values) > 1]\n",
    "print(\"identified\", str(result))"
   ]
  },
  {
   "cell_type": "code",
   "execution_count": 10,
   "metadata": {},
   "outputs": [
    {
     "name": "stdout",
     "output_type": "stream",
     "text": [
      "enter key to be verified :ali\n",
      "key present in dictonary \n",
      "value : 1\n"
     ]
    }
   ],
   "source": [
    "#ans06\n",
    "\n",
    "d = {'ali' : 1, 'hassan': 3 , 'tahir':3 , 'umer':4 ,'hussain': 2 }\n",
    "user_key = input ('enter key to be verified :')\n",
    "if user_key in d.keys ():\n",
    "    print ('key present in dictonary ')\n",
    "    print ('value', ':', d[user_key])\n",
    "else:\n",
    "    print ( 'ker is not present ')"
   ]
  },
  {
   "cell_type": "code",
   "execution_count": null,
   "metadata": {},
   "outputs": [],
   "source": []
  }
 ],
 "metadata": {
  "kernelspec": {
   "display_name": "Python 3",
   "language": "python",
   "name": "python3"
  },
  "language_info": {
   "codemirror_mode": {
    "name": "ipython",
    "version": 3
   },
   "file_extension": ".py",
   "mimetype": "text/x-python",
   "name": "python",
   "nbconvert_exporter": "python",
   "pygments_lexer": "ipython3",
   "version": "3.7.4"
  }
 },
 "nbformat": 4,
 "nbformat_minor": 2
}
